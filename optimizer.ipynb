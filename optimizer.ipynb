{
 "cells": [
  {
   "cell_type": "code",
   "execution_count": null,
   "metadata": {},
   "outputs": [],
   "source": [
    "import numpy as np\n",
    "\n",
    "class SGD:\n",
    "    def __init__(self, model, lr:float):\n",
    "        self.model = model\n",
    "        self.lr = lr\n",
    "        \n",
    "    def update_params(self):\n",
    "        for key in self.model.params.keys():\n",
    "            self.model.params[key] -= self.lr * self.model.grads[key]\n",
    "            \n",
    "class Adam:\n",
    "    def __init__(self, model, lr=0.001, beta1=0.9, beta2=0.999, eps=1e-8):\n",
    "        self.model = model\n",
    "        self.lr = lr\n",
    "        self.beta1 = beta1\n",
    "        self.beta2 = beta2\n",
    "        self.eps = eps\n",
    "        self.m = {}\n",
    "        self.v = {}\n",
    "        self.t = 0\n",
    "        for key in self.model.params.keys():\n",
    "            self.m[key] = np.zeros_like(self.model.params[key])\n",
    "            self.v[key] = np.zeros_like(self.model.params[key])\n",
    "        \n",
    "    def update_params(self):\n",
    "        self.t += 1\n",
    "        for key in self.model.params.keys():\n",
    "            self.m[key] = self.beta1 * self.m[key] + (1 - self.beta1) * self.model.grads[key]\n",
    "            self.v[key] = self.beta2 * self.v[key] + (1 - self.beta2) * np.square(self.model.grads[key])\n",
    "            m_pred = self.m[key] / (1 - self.beta1 ** self.t)\n",
    "            v_pred = self.v[key] / (1 - self.beta2 ** self.t)\n",
    "            self.model.params[key] -= self.lr * m_pred / (np.sqrt(v_pred) + self.eps)\n"
   ]
  }
 ],
 "metadata": {
  "kernelspec": {
   "display_name": "Python 3",
   "language": "python",
   "name": "python3"
  },
  "language_info": {
   "codemirror_mode": {
    "name": "ipython",
    "version": 3
   },
   "file_extension": ".py",
   "mimetype": "text/x-python",
   "name": "python",
   "nbconvert_exporter": "python",
   "pygments_lexer": "ipython3",
   "version": "3.7.3"
  }
 },
 "nbformat": 4,
 "nbformat_minor": 2
}
