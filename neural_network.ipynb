{
 "cells": [
  {
   "cell_type": "code",
   "execution_count": 31,
   "metadata": {},
   "outputs": [],
   "source": [
    "import torch\n",
    "import torch.nn as nn\n",
    "import torch.nn.functional as F\n",
    "import torch.optim as optim\n",
    "import numpy as np\n",
    "from typing import Callable, Any, List\n",
    "\n",
    "class Net(nn.Module):\n",
    "    def __init__(\n",
    "        self,\n",
    "        structure: List[int],\n",
    "        initializer: Callable[..., Any] = lambda w: nn.init.uniform_(w, -1.0, 1.0),\n",
    "    ):\n",
    "        super(Net, self).__init__()\n",
    "        # an affine operation: y = Wx + b\n",
    "        self.layer_num: int = len(structure)\n",
    "        for i in range(1, self.layer_num):\n",
    "            setattr(self, \"fc%d\" % i, nn.Linear(structure[i - 1], structure[i]))\n",
    "            initializer(getattr(self, \"fc%d\" % i).weight)\n",
    "\n",
    "    def forward(self, x: torch.Tensor):\n",
    "        for i in range(1, self.layer_num):\n",
    "            x = torch.sigmoid(getattr(self, \"fc%d\" % i)(x))\n",
    "        return x\n",
    "\n",
    "#     def forward(self, x: torch.Tensor):\n",
    "#         for i in range(1, self.layer_num-1):\n",
    "#             x = F.relu(getattr(self, \"fc%d\" % i)(x))\n",
    "#         i += 1\n",
    "#         return torch.sigmoid(getattr(self, \"fc%d\" % i)(x))"
   ]
  },
  {
   "cell_type": "code",
   "execution_count": 35,
   "metadata": {},
   "outputs": [
    {
     "name": "stdout",
     "output_type": "stream",
     "text": [
      "0 0.28729701042175293\n",
      "1000 0.14207304548472166\n",
      "2000 0.1325465442496352\n",
      "3000 0.13128150466945954\n",
      "4000 0.13080816861474887\n",
      "5000 0.13056330237304792\n",
      "6000 0.13041438320215093\n",
      "7000 0.13031446338573005\n",
      "8000 0.13024294016940985\n",
      "9000 0.13018927012672066\n",
      "tensor([0.0158], grad_fn=<SigmoidBackward>)\n",
      "tensor([0.9866], grad_fn=<SigmoidBackward>)\n",
      "tensor([0.4899], grad_fn=<SigmoidBackward>)\n",
      "tensor([0.4907], grad_fn=<SigmoidBackward>)\n"
     ]
    }
   ],
   "source": [
    "# ----------- Selecting Optimizer -----------\n",
    "if __name__ == \"__main__\":\n",
    "    TRAINING_DATA: torch.Tensor = torch.tensor(\n",
    "        [[0.0, 0.0], [1.0, 0.0], [0.0, 1.0], [1.0, 1.0]]\n",
    "    )\n",
    "    TEACHING_DATA: torch.Tensor = torch.tensor([[0.0], [1.0], [1.0], [0.0]])\n",
    "    EPOCH: int = 10000\n",
    "    error_boundary: float = 1e-3\n",
    "    structure = [2, 2, 1]\n",
    "    initial_value = (6/(structure[0]+structure[-1]))**0.5\n",
    "    initializer: Callable[..., Any] = lambda weights: nn.init.uniform_(\n",
    "        weights, -initial_value, initial_value\n",
    "    )\n",
    "    net = Net(structure, initializer)\n",
    "    criterion = nn.MSELoss()\n",
    "    learning_rate: float = 0.3\n",
    "    optimizer = optim.SGD(net.parameters(), lr=learning_rate)\n",
    "#     optimizer = optim.Adam(net.parameters(), lr = 0.0001)\n",
    "    training_data_indexes = np.arange(len(TRAINING_DATA))\n",
    "    Loss = []\n",
    "    for epoch in range(EPOCH):\n",
    "        error = []\n",
    "        for data_index in training_data_indexes:\n",
    "            optimizer.zero_grad()\n",
    "            output = net(TRAINING_DATA[data_index])\n",
    "            loss = criterion(output, TEACHING_DATA[data_index])\n",
    "            loss.backward()\n",
    "            optimizer.step()\n",
    "            error.append(float(loss.mean()))\n",
    "        Loss.append(np.mean(error))\n",
    "        if Loss[epoch] < error_boundary:\n",
    "            print(epoch, Loss[epoch])\n",
    "            print(\"----- End Learning -----\")\n",
    "            break\n",
    "        if epoch % 1000 == 0:\n",
    "            print(epoch, Loss[epoch])\n",
    "    for training_data in TRAINING_DATA:\n",
    "        output = net(training_data)\n",
    "        print(output)"
   ]
  },
  {
   "cell_type": "code",
   "execution_count": 16,
   "metadata": {},
   "outputs": [
    {
     "name": "stdout",
     "output_type": "stream",
     "text": [
      "tensor([0.0000, 0.0000, 0.0343, 0.0815, 0.0000])\n"
     ]
    }
   ],
   "source": []
  },
  {
   "cell_type": "code",
   "execution_count": null,
   "metadata": {},
   "outputs": [],
   "source": []
  }
 ],
 "metadata": {
  "kernelspec": {
   "display_name": "Python 3",
   "language": "python",
   "name": "python3"
  },
  "language_info": {
   "codemirror_mode": {
    "name": "ipython",
    "version": 3
   },
   "file_extension": ".py",
   "mimetype": "text/x-python",
   "name": "python",
   "nbconvert_exporter": "python",
   "pygments_lexer": "ipython3",
   "version": "3.7.3"
  }
 },
 "nbformat": 4,
 "nbformat_minor": 2
}
