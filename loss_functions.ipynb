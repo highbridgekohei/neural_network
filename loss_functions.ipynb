{
 "cells": [
  {
   "cell_type": "code",
   "execution_count": 20,
   "metadata": {},
   "outputs": [],
   "source": [
    "import numpy as np\n",
    "# Mean square error\n",
    "def MSE(y_pred:np.array, y:np.array):\n",
    "    N = y.shape[0]\n",
    "    loss = np.sum(np.square(y_pred - y)) / N\n",
    "    delta = (y_pred - y) / N\n",
    "    return loss, delta\n",
    "\n",
    "# Binary cross entoropy loss\n",
    "def BCEL(A:np.array, Y:np.array):\n",
    "    N = A.shape[0]\n",
    "    loss = - np.sum(Y * np.log(A) + (1 - Y) * np.log(1 - A)) / N\n",
    "    dA = - (np.divide(Y, A) - np.divide(1 - Y, 1 - A)) / N\n",
    "    return loss, dA\n",
    "\n",
    "# Cross entropy loss\n",
    "def CEL(A:np.array, Y:np.array):\n",
    "    N = A.shape[0]\n",
    "    loss = - np.sum(Y * np.log(A)) / N\n",
    "    dA = - Y / A / N\n",
    "    return loss, dA\n",
    "\n",
    "def im_BCEL(y_pred, y, A):\n",
    "    N = y_pred.shape[0]\n",
    "    loss = - np.sum(A * y * np.log(y_pred) + (1 - y) * np.log(1 - y_pred)) / N\n",
    "    delta = - (np.divide(y, y_pred) - np.divide(1 - y, 1 - y_pred)) / N\n",
    "    return loss, delta\n"
   ]
  },
  {
   "cell_type": "code",
   "execution_count": 22,
   "metadata": {},
   "outputs": [
    {
     "data": {
      "image/png": "[encoded data removed]",
      "text/plain": [
       "<Figure size 432x288 with 1 Axes>"
      ]
     },
     "metadata": {
      "needs_background": "light"
     },
     "output_type": "display_data"
    }
   ],
   "source": [
    "if __name__ == '__main__':\n",
    "    from matplotlib import pyplot as plt\n",
    "    y_pred_list = np.arange(0.01, 1, 0.01)\n",
    "    y = 1\n",
    "    A_list = [1, 5, 10]\n",
    "    plt.figure()\n",
    "    for A in A_list:\n",
    "        Loss = []\n",
    "        for y_pred in y_pred_list:\n",
    "            loss, delta = im_BCEL(np.array([y_pred]), 1, A)\n",
    "            Loss.append(loss)\n",
    "        plt.plot(y_pred_list, Loss)"
   ]
  },
  {
   "cell_type": "code",
   "execution_count": null,
   "metadata": {},
   "outputs": [],
   "source": []
  }
 ],
 "metadata": {
  "kernelspec": {
   "display_name": "Python 3",
   "language": "python",
   "name": "python3"
  },
  "language_info": {
   "codemirror_mode": {
    "name": "ipython",
    "version": 3
   },
   "file_extension": ".py",
   "mimetype": "text/x-python",
   "name": "python",
   "nbconvert_exporter": "python",
   "pygments_lexer": "ipython3",
   "version": "3.7.3"
  }
 },
 "nbformat": 4,
 "nbformat_minor": 2
}
